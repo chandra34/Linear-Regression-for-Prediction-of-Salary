{
 "cells": [
  {
   "cell_type": "code",
   "execution_count": 1,
   "id": "9e6d767b",
   "metadata": {},
   "outputs": [],
   "source": [
    "import numpy as np"
   ]
  },
  {
   "cell_type": "code",
   "execution_count": 21,
   "id": "7232c3b2",
   "metadata": {},
   "outputs": [],
   "source": [
    "class Linear_Regression():\n",
    "    def __init__(self,learning_rate,no_iterations):\n",
    "        self.learning_rate=learning_rate\n",
    "        self.no_iterations=no_iterations\n",
    "    def fit(self,X,Y):\n",
    "        self.m,self.n=X.shape\n",
    "        #initiliating weights and bias\n",
    "        self.w=np.zeros(self.n)\n",
    "        self.b=0\n",
    "        self.X=X\n",
    "        self.Y=Y\n",
    "        #implementing gradient descent\n",
    "        for i in range(self.no_iterations):\n",
    "            self.update_weights()\n",
    "    def update_weights(self):\n",
    "        Y_prediction=self.predict(self.X)\n",
    "        #calculate gradients\n",
    "        dw=-(2*(self.X.T).dot(self.Y-Y_prediction))/self.m\n",
    "        db=-2*np.sum(self.Y-Y_prediction)/self.m\n",
    "        #updating the weights\n",
    "        self.w=self.w-self.learning_rate*dw\n",
    "        self.b=self.b-self.learning_rate*db\n",
    "    def predict(self,X):\n",
    "        return X.dot(self.w)+self.b\n",
    "    "
   ]
  },
  {
   "cell_type": "code",
   "execution_count": 12,
   "id": "3a6a9840",
   "metadata": {},
   "outputs": [],
   "source": [
    "#using linear Reegression for predictin\n",
    "#importing the dependecies\n",
    "import pandas as pd\n",
    "from sklearn.model_selection import train_test_split\n",
    "import matplotlib.pyplot as plt"
   ]
  },
  {
   "cell_type": "code",
   "execution_count": 13,
   "id": "0e6e3b62",
   "metadata": {},
   "outputs": [],
   "source": [
    "#data preprocessing\n",
    "#loading the data to csv to pandas\n",
    "salary=pd.read_csv(\"C:/Users/chand/Downloads/salary_data.csv\")"
   ]
  },
  {
   "cell_type": "code",
   "execution_count": 15,
   "id": "c4ab32f4",
   "metadata": {},
   "outputs": [
    {
     "name": "stdout",
     "output_type": "stream",
     "text": [
      "   YearsExperience  Salary\n",
      "0              1.1   39343\n",
      "1              1.3   46205\n",
      "2              1.5   37731\n",
      "3              2.0   43525\n",
      "4              2.2   39891\n"
     ]
    }
   ],
   "source": [
    "print(salary.head())"
   ]
  },
  {
   "cell_type": "code",
   "execution_count": 16,
   "id": "42d6ffce",
   "metadata": {},
   "outputs": [
    {
     "data": {
      "text/plain": [
       "(30, 2)"
      ]
     },
     "execution_count": 16,
     "metadata": {},
     "output_type": "execute_result"
    }
   ],
   "source": [
    "salary.shape"
   ]
  },
  {
   "cell_type": "code",
   "execution_count": 17,
   "id": "2a993bcf",
   "metadata": {},
   "outputs": [
    {
     "data": {
      "text/plain": [
       "YearsExperience    0\n",
       "Salary             0\n",
       "dtype: int64"
      ]
     },
     "execution_count": 17,
     "metadata": {},
     "output_type": "execute_result"
    }
   ],
   "source": [
    "#counting the misssing values\n",
    "salary.isnull().sum()"
   ]
  },
  {
   "cell_type": "code",
   "execution_count": 18,
   "id": "a118ffea",
   "metadata": {},
   "outputs": [],
   "source": [
    "#splliting the feature and the target\n",
    "x=salary.iloc[:,:-1].values\n",
    "y=salary.iloc[:,1].values"
   ]
  },
  {
   "cell_type": "code",
   "execution_count": 19,
   "id": "878f144f",
   "metadata": {},
   "outputs": [
    {
     "name": "stdout",
     "output_type": "stream",
     "text": [
      "[[ 1.1]\n",
      " [ 1.3]\n",
      " [ 1.5]\n",
      " [ 2. ]\n",
      " [ 2.2]\n",
      " [ 2.9]\n",
      " [ 3. ]\n",
      " [ 3.2]\n",
      " [ 3.2]\n",
      " [ 3.7]\n",
      " [ 3.9]\n",
      " [ 4. ]\n",
      " [ 4. ]\n",
      " [ 4.1]\n",
      " [ 4.5]\n",
      " [ 4.9]\n",
      " [ 5.1]\n",
      " [ 5.3]\n",
      " [ 5.9]\n",
      " [ 6. ]\n",
      " [ 6.8]\n",
      " [ 7.1]\n",
      " [ 7.9]\n",
      " [ 8.2]\n",
      " [ 8.7]\n",
      " [ 9. ]\n",
      " [ 9.5]\n",
      " [ 9.6]\n",
      " [10.3]\n",
      " [10.5]]\n"
     ]
    }
   ],
   "source": [
    "print(x)"
   ]
  },
  {
   "cell_type": "code",
   "execution_count": 20,
   "id": "3c0457ba",
   "metadata": {},
   "outputs": [],
   "source": [
    "#splitting the data into traing and split\n",
    "x_train,x_test,y_train,y_test=train_test_split(x,y,test_size=0.33,random_state=2)"
   ]
  },
  {
   "cell_type": "code",
   "execution_count": 22,
   "id": "f430cb9d",
   "metadata": {},
   "outputs": [],
   "source": [
    "#traing the linear rgression \n",
    "model=Linear_Regression(learning_rate=0.02,no_iterations=1000)"
   ]
  },
  {
   "cell_type": "code",
   "execution_count": 23,
   "id": "7a338560",
   "metadata": {},
   "outputs": [],
   "source": [
    "model.fit(x_train,y_train)"
   ]
  },
  {
   "cell_type": "code",
   "execution_count": 24,
   "id": "e5e5bc88",
   "metadata": {},
   "outputs": [
    {
     "name": "stdout",
     "output_type": "stream",
     "text": [
      "weight= 9514.400999035135\n",
      "bias= 23697.406507136307\n"
     ]
    }
   ],
   "source": [
    "print(\"weight=\",model.w[0])\n",
    "print(\"bias=\",model.b)"
   ]
  },
  {
   "cell_type": "code",
   "execution_count": 25,
   "id": "b5eda95d",
   "metadata": {},
   "outputs": [],
   "source": [
    "#predicting the salary for test data\n",
    "test_data_predict=model.predict(x_test)"
   ]
  },
  {
   "cell_type": "code",
   "execution_count": 27,
   "id": "fc099902",
   "metadata": {},
   "outputs": [
    {
     "name": "stdout",
     "output_type": "stream",
     "text": [
      "[ 36066.12780588  34163.24760607  66512.21100279  58900.69020357\n",
      "  91249.65360029  80783.81250135 101715.49469922  52240.60950424\n",
      "  42726.20850521  88395.33330058]\n"
     ]
    }
   ],
   "source": [
    "print(test_data_predict)"
   ]
  },
  {
   "cell_type": "code",
   "execution_count": 29,
   "id": "c060a3d7",
   "metadata": {},
   "outputs": [
    {
     "data": {
      "text/plain": [
       "Text(0.5, 1.0, 'salary vs work ex')"
      ]
     },
     "execution_count": 29,
     "metadata": {},
     "output_type": "execute_result"
    },
    {
     "data": {
      "image/png": "[encoded data removed]",
      "text/plain": [
       "<Figure size 640x480 with 1 Axes>"
      ]
     },
     "metadata": {},
     "output_type": "display_data"
    }
   ],
   "source": [
    "#visualization\n",
    "plt.scatter(x_test,y_test,color='red')\n",
    "plt.plot(x_test,test_data_predict,color='blue')\n",
    "plt.xlabel('work experience')\n",
    "plt.ylabel('salary')\n",
    "plt.title('salary vs work ex')"
   ]
  },
  {
   "cell_type": "code",
   "execution_count": null,
   "id": "0a5dbfa9",
   "metadata": {},
   "outputs": [],
   "source": [
    " "
   ]
  }
 ],
 "metadata": {
  "kernelspec": {
   "display_name": "Python 3 (ipykernel)",
   "language": "python",
   "name": "python3"
  },
  "language_info": {
   "codemirror_mode": {
    "name": "ipython",
    "version": 3
   },
   "file_extension": ".py",
   "mimetype": "text/x-python",
   "name": "python",
   "nbconvert_exporter": "python",
   "pygments_lexer": "ipython3",
   "version": "3.9.13"
  }
 },
 "nbformat": 4,
 "nbformat_minor": 5
}
